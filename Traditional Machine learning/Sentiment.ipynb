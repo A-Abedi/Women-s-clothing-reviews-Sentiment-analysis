{
 "cells": [
  {
   "cell_type": "code",
   "execution_count": 2,
   "metadata": {},
   "outputs": [],
   "source": [
    "import pandas as pd\n",
    "import numpy as np\n",
    "from sklearn.feature_extraction.text import CountVectorizer\n",
    "from sklearn.model_selection import train_test_split\n",
    "import joblib\n",
    "from sklearn.model_selection import GridSearchCV, cross_val_predict, cross_val_score"
   ]
  },
  {
   "cell_type": "markdown",
   "metadata": {},
   "source": [
    "## * Read raw data and, pre-prcocessing, train model and save all these processes\n",
    "\n",
    "skip blocks which have * at the beginning of their title. These block contain processes like pre-process data and train model which are time consuming. Run these block only of you want apply pre-process and training process again. "
   ]
  },
  {
   "cell_type": "markdown",
   "metadata": {},
   "source": [
    "### * Read raw data"
   ]
  },
  {
   "cell_type": "code",
   "execution_count": 9,
   "metadata": {},
   "outputs": [
    {
     "data": {
      "text/html": [
       "<div>\n",
       "<style scoped>\n",
       "    .dataframe tbody tr th:only-of-type {\n",
       "        vertical-align: middle;\n",
       "    }\n",
       "\n",
       "    .dataframe tbody tr th {\n",
       "        vertical-align: top;\n",
       "    }\n",
       "\n",
       "    .dataframe thead th {\n",
       "        text-align: right;\n",
       "    }\n",
       "</style>\n",
       "<table border=\"1\" class=\"dataframe\">\n",
       "  <thead>\n",
       "    <tr style=\"text-align: right;\">\n",
       "      <th></th>\n",
       "      <th>Unnamed: 0</th>\n",
       "      <th>Clothing ID</th>\n",
       "      <th>Age</th>\n",
       "      <th>Title</th>\n",
       "      <th>Review Text</th>\n",
       "      <th>Rating</th>\n",
       "      <th>Recommended IND</th>\n",
       "      <th>Positive Feedback Count</th>\n",
       "      <th>Division Name</th>\n",
       "      <th>Department Name</th>\n",
       "      <th>Class Name</th>\n",
       "    </tr>\n",
       "  </thead>\n",
       "  <tbody>\n",
       "    <tr>\n",
       "      <th>0</th>\n",
       "      <td>0</td>\n",
       "      <td>767</td>\n",
       "      <td>33</td>\n",
       "      <td>NaN</td>\n",
       "      <td>Absolutely wonderful - silky and sexy and comf...</td>\n",
       "      <td>4</td>\n",
       "      <td>1</td>\n",
       "      <td>0</td>\n",
       "      <td>Initmates</td>\n",
       "      <td>Intimate</td>\n",
       "      <td>Intimates</td>\n",
       "    </tr>\n",
       "    <tr>\n",
       "      <th>1</th>\n",
       "      <td>1</td>\n",
       "      <td>1080</td>\n",
       "      <td>34</td>\n",
       "      <td>NaN</td>\n",
       "      <td>Love this dress!  it's sooo pretty.  i happene...</td>\n",
       "      <td>5</td>\n",
       "      <td>1</td>\n",
       "      <td>4</td>\n",
       "      <td>General</td>\n",
       "      <td>Dresses</td>\n",
       "      <td>Dresses</td>\n",
       "    </tr>\n",
       "    <tr>\n",
       "      <th>2</th>\n",
       "      <td>2</td>\n",
       "      <td>1077</td>\n",
       "      <td>60</td>\n",
       "      <td>Some major design flaws</td>\n",
       "      <td>I had such high hopes for this dress and reall...</td>\n",
       "      <td>3</td>\n",
       "      <td>0</td>\n",
       "      <td>0</td>\n",
       "      <td>General</td>\n",
       "      <td>Dresses</td>\n",
       "      <td>Dresses</td>\n",
       "    </tr>\n",
       "    <tr>\n",
       "      <th>3</th>\n",
       "      <td>3</td>\n",
       "      <td>1049</td>\n",
       "      <td>50</td>\n",
       "      <td>My favorite buy!</td>\n",
       "      <td>I love, love, love this jumpsuit. it's fun, fl...</td>\n",
       "      <td>5</td>\n",
       "      <td>1</td>\n",
       "      <td>0</td>\n",
       "      <td>General Petite</td>\n",
       "      <td>Bottoms</td>\n",
       "      <td>Pants</td>\n",
       "    </tr>\n",
       "    <tr>\n",
       "      <th>4</th>\n",
       "      <td>4</td>\n",
       "      <td>847</td>\n",
       "      <td>47</td>\n",
       "      <td>Flattering shirt</td>\n",
       "      <td>This shirt is very flattering to all due to th...</td>\n",
       "      <td>5</td>\n",
       "      <td>1</td>\n",
       "      <td>6</td>\n",
       "      <td>General</td>\n",
       "      <td>Tops</td>\n",
       "      <td>Blouses</td>\n",
       "    </tr>\n",
       "  </tbody>\n",
       "</table>\n",
       "</div>"
      ],
      "text/plain": [
       "   Unnamed: 0  Clothing ID  Age                    Title  \\\n",
       "0           0          767   33                      NaN   \n",
       "1           1         1080   34                      NaN   \n",
       "2           2         1077   60  Some major design flaws   \n",
       "3           3         1049   50         My favorite buy!   \n",
       "4           4          847   47         Flattering shirt   \n",
       "\n",
       "                                         Review Text  Rating  Recommended IND  \\\n",
       "0  Absolutely wonderful - silky and sexy and comf...       4                1   \n",
       "1  Love this dress!  it's sooo pretty.  i happene...       5                1   \n",
       "2  I had such high hopes for this dress and reall...       3                0   \n",
       "3  I love, love, love this jumpsuit. it's fun, fl...       5                1   \n",
       "4  This shirt is very flattering to all due to th...       5                1   \n",
       "\n",
       "   Positive Feedback Count   Division Name Department Name Class Name  \n",
       "0                        0       Initmates        Intimate  Intimates  \n",
       "1                        4         General         Dresses    Dresses  \n",
       "2                        0         General         Dresses    Dresses  \n",
       "3                        0  General Petite         Bottoms      Pants  \n",
       "4                        6         General            Tops    Blouses  "
      ]
     },
     "execution_count": 9,
     "metadata": {},
     "output_type": "execute_result"
    }
   ],
   "source": [
    "df = pd.read_csv(\"./data.csv\")\n",
    "df.head()"
   ]
  },
  {
   "cell_type": "code",
   "execution_count": 10,
   "metadata": {},
   "outputs": [
    {
     "name": "stdout",
     "output_type": "stream",
     "text": [
      "<class 'pandas.core.frame.DataFrame'>\n",
      "RangeIndex: 23486 entries, 0 to 23485\n",
      "Data columns (total 11 columns):\n",
      " #   Column                   Non-Null Count  Dtype \n",
      "---  ------                   --------------  ----- \n",
      " 0   Unnamed: 0               23486 non-null  int64 \n",
      " 1   Clothing ID              23486 non-null  int64 \n",
      " 2   Age                      23486 non-null  int64 \n",
      " 3   Title                    19676 non-null  object\n",
      " 4   Review Text              22641 non-null  object\n",
      " 5   Rating                   23486 non-null  int64 \n",
      " 6   Recommended IND          23486 non-null  int64 \n",
      " 7   Positive Feedback Count  23486 non-null  int64 \n",
      " 8   Division Name            23472 non-null  object\n",
      " 9   Department Name          23472 non-null  object\n",
      " 10  Class Name               23472 non-null  object\n",
      "dtypes: int64(6), object(5)\n",
      "memory usage: 2.0+ MB\n"
     ]
    }
   ],
   "source": [
    "df.info()"
   ]
  },
  {
   "cell_type": "code",
   "execution_count": 11,
   "metadata": {},
   "outputs": [
    {
     "data": {
      "text/plain": [
       "(23486, 11)"
      ]
     },
     "execution_count": 11,
     "metadata": {},
     "output_type": "execute_result"
    }
   ],
   "source": [
    "df.shape"
   ]
  },
  {
   "cell_type": "code",
   "execution_count": 12,
   "metadata": {
    "scrolled": false
   },
   "outputs": [
    {
     "data": {
      "text/plain": [
       "Unnamed: 0                    0\n",
       "Clothing ID                   0\n",
       "Age                           0\n",
       "Title                      3810\n",
       "Review Text                 845\n",
       "Rating                        0\n",
       "Recommended IND               0\n",
       "Positive Feedback Count       0\n",
       "Division Name                14\n",
       "Department Name              14\n",
       "Class Name                   14\n",
       "dtype: int64"
      ]
     },
     "execution_count": 12,
     "metadata": {},
     "output_type": "execute_result"
    }
   ],
   "source": [
    "df.isna().sum()"
   ]
  },
  {
   "cell_type": "markdown",
   "metadata": {},
   "source": [
    "**We remove all records which their Review Text is blan because we want to predict Recommendation and Rating according to this columns.**"
   ]
  },
  {
   "cell_type": "code",
   "execution_count": 13,
   "metadata": {},
   "outputs": [],
   "source": [
    "df = df.dropna(subset=[\"Review Text\"]) "
   ]
  },
  {
   "cell_type": "code",
   "execution_count": 14,
   "metadata": {},
   "outputs": [
    {
     "data": {
      "text/plain": [
       "Unnamed: 0                    0\n",
       "Clothing ID                   0\n",
       "Age                           0\n",
       "Title                      2966\n",
       "Review Text                   0\n",
       "Rating                        0\n",
       "Recommended IND               0\n",
       "Positive Feedback Count       0\n",
       "Division Name                13\n",
       "Department Name              13\n",
       "Class Name                   13\n",
       "dtype: int64"
      ]
     },
     "execution_count": 14,
     "metadata": {},
     "output_type": "execute_result"
    }
   ],
   "source": [
    "df.isna().sum()"
   ]
  },
  {
   "cell_type": "code",
   "execution_count": 15,
   "metadata": {},
   "outputs": [
    {
     "data": {
      "text/plain": [
       "(22641, 11)"
      ]
     },
     "execution_count": 15,
     "metadata": {},
     "output_type": "execute_result"
    }
   ],
   "source": [
    "df.shape"
   ]
  },
  {
   "cell_type": "markdown",
   "metadata": {},
   "source": [
    "**We should apply pre-processing on the Review Text. In pre-processing we use a pre-prepared dictionary from NLTK library which helps us to tokenize text and remove stop words (and, ...) and lemmatize words. Lemmatization is the process of change all words to its root word. For example fishes, fishing, fished are all change to fish.**"
   ]
  },
  {
   "cell_type": "code",
   "execution_count": 16,
   "metadata": {},
   "outputs": [
    {
     "name": "stderr",
     "output_type": "stream",
     "text": [
      "[nltk_data] Downloading package wordnet to\n",
      "[nltk_data]     C:\\Users\\Ali\\AppData\\Roaming\\nltk_data...\n",
      "[nltk_data]   Package wordnet is already up-to-date!\n"
     ]
    }
   ],
   "source": [
    "import re \n",
    "import nltk\n",
    "nltk.download('wordnet')\n",
    "\n",
    "def preprocessing(text):\n",
    "    text = text.lower()\n",
    "    tokenizer = nltk.tokenize.TreebankWordTokenizer()\n",
    "    tokens = tokenizer.tokenize(text)\n",
    "    \n",
    "    stemmer = nltk.stem.WordNetLemmatizer()\n",
    "    text = \" \".join(stemmer.lemmatize(token) for token in tokens)\n",
    "    text = re.sub(\"[^a-z']\",\" \", text)\n",
    "    return text\n",
    "\n",
    "df[\"Clean_Review\"] = df[\"Review Text\"].apply(preprocessing)"
   ]
  },
  {
   "cell_type": "markdown",
   "metadata": {},
   "source": [
    "### * Save pro-processed data"
   ]
  },
  {
   "cell_type": "markdown",
   "metadata": {},
   "source": [
    "We save the cleaned data to prevent pre-process steps for the next runs."
   ]
  },
  {
   "cell_type": "code",
   "execution_count": 17,
   "metadata": {},
   "outputs": [],
   "source": [
    "df.to_csv(\"cleaned_data.csv\")"
   ]
  },
  {
   "cell_type": "code",
   "execution_count": 18,
   "metadata": {},
   "outputs": [
    {
     "data": {
      "text/plain": [
       "(22641, 12)"
      ]
     },
     "execution_count": 18,
     "metadata": {},
     "output_type": "execute_result"
    }
   ],
   "source": [
    "df.shape"
   ]
  },
  {
   "cell_type": "markdown",
   "metadata": {},
   "source": [
    "### * Vectorize review text"
   ]
  },
  {
   "cell_type": "code",
   "execution_count": 19,
   "metadata": {},
   "outputs": [
    {
     "data": {
      "text/html": [
       "<div>\n",
       "<style scoped>\n",
       "    .dataframe tbody tr th:only-of-type {\n",
       "        vertical-align: middle;\n",
       "    }\n",
       "\n",
       "    .dataframe tbody tr th {\n",
       "        vertical-align: top;\n",
       "    }\n",
       "\n",
       "    .dataframe thead th {\n",
       "        text-align: right;\n",
       "    }\n",
       "</style>\n",
       "<table border=\"1\" class=\"dataframe\">\n",
       "  <thead>\n",
       "    <tr style=\"text-align: right;\">\n",
       "      <th></th>\n",
       "      <th>Unnamed: 0</th>\n",
       "      <th>Unnamed: 0.1</th>\n",
       "      <th>Clothing ID</th>\n",
       "      <th>Age</th>\n",
       "      <th>Title</th>\n",
       "      <th>Review Text</th>\n",
       "      <th>Rating</th>\n",
       "      <th>Recommended IND</th>\n",
       "      <th>Positive Feedback Count</th>\n",
       "      <th>Division Name</th>\n",
       "      <th>Department Name</th>\n",
       "      <th>Class Name</th>\n",
       "      <th>Clean_Review</th>\n",
       "    </tr>\n",
       "  </thead>\n",
       "  <tbody>\n",
       "    <tr>\n",
       "      <th>0</th>\n",
       "      <td>0</td>\n",
       "      <td>0</td>\n",
       "      <td>767</td>\n",
       "      <td>33</td>\n",
       "      <td>NaN</td>\n",
       "      <td>Absolutely wonderful - silky and sexy and comf...</td>\n",
       "      <td>4</td>\n",
       "      <td>1</td>\n",
       "      <td>0</td>\n",
       "      <td>Initmates</td>\n",
       "      <td>Intimate</td>\n",
       "      <td>Intimates</td>\n",
       "      <td>absolutely wonderful   silky and sexy and comf...</td>\n",
       "    </tr>\n",
       "    <tr>\n",
       "      <th>1</th>\n",
       "      <td>1</td>\n",
       "      <td>1</td>\n",
       "      <td>1080</td>\n",
       "      <td>34</td>\n",
       "      <td>NaN</td>\n",
       "      <td>Love this dress!  it's sooo pretty.  i happene...</td>\n",
       "      <td>5</td>\n",
       "      <td>1</td>\n",
       "      <td>4</td>\n",
       "      <td>General</td>\n",
       "      <td>Dresses</td>\n",
       "      <td>Dresses</td>\n",
       "      <td>love this dress   it 's sooo pretty  i happene...</td>\n",
       "    </tr>\n",
       "    <tr>\n",
       "      <th>2</th>\n",
       "      <td>2</td>\n",
       "      <td>2</td>\n",
       "      <td>1077</td>\n",
       "      <td>60</td>\n",
       "      <td>Some major design flaws</td>\n",
       "      <td>I had such high hopes for this dress and reall...</td>\n",
       "      <td>3</td>\n",
       "      <td>0</td>\n",
       "      <td>0</td>\n",
       "      <td>General</td>\n",
       "      <td>Dresses</td>\n",
       "      <td>Dresses</td>\n",
       "      <td>i had such high hope for this dress and really...</td>\n",
       "    </tr>\n",
       "    <tr>\n",
       "      <th>3</th>\n",
       "      <td>3</td>\n",
       "      <td>3</td>\n",
       "      <td>1049</td>\n",
       "      <td>50</td>\n",
       "      <td>My favorite buy!</td>\n",
       "      <td>I love, love, love this jumpsuit. it's fun, fl...</td>\n",
       "      <td>5</td>\n",
       "      <td>1</td>\n",
       "      <td>0</td>\n",
       "      <td>General Petite</td>\n",
       "      <td>Bottoms</td>\n",
       "      <td>Pants</td>\n",
       "      <td>i love   love   love this jumpsuit  it 's fun ...</td>\n",
       "    </tr>\n",
       "    <tr>\n",
       "      <th>4</th>\n",
       "      <td>4</td>\n",
       "      <td>4</td>\n",
       "      <td>847</td>\n",
       "      <td>47</td>\n",
       "      <td>Flattering shirt</td>\n",
       "      <td>This shirt is very flattering to all due to th...</td>\n",
       "      <td>5</td>\n",
       "      <td>1</td>\n",
       "      <td>6</td>\n",
       "      <td>General</td>\n",
       "      <td>Tops</td>\n",
       "      <td>Blouses</td>\n",
       "      <td>this shirt is very flattering to all due to th...</td>\n",
       "    </tr>\n",
       "  </tbody>\n",
       "</table>\n",
       "</div>"
      ],
      "text/plain": [
       "   Unnamed: 0  Unnamed: 0.1  Clothing ID  Age                    Title  \\\n",
       "0           0             0          767   33                      NaN   \n",
       "1           1             1         1080   34                      NaN   \n",
       "2           2             2         1077   60  Some major design flaws   \n",
       "3           3             3         1049   50         My favorite buy!   \n",
       "4           4             4          847   47         Flattering shirt   \n",
       "\n",
       "                                         Review Text  Rating  Recommended IND  \\\n",
       "0  Absolutely wonderful - silky and sexy and comf...       4                1   \n",
       "1  Love this dress!  it's sooo pretty.  i happene...       5                1   \n",
       "2  I had such high hopes for this dress and reall...       3                0   \n",
       "3  I love, love, love this jumpsuit. it's fun, fl...       5                1   \n",
       "4  This shirt is very flattering to all due to th...       5                1   \n",
       "\n",
       "   Positive Feedback Count   Division Name Department Name Class Name  \\\n",
       "0                        0       Initmates        Intimate  Intimates   \n",
       "1                        4         General         Dresses    Dresses   \n",
       "2                        0         General         Dresses    Dresses   \n",
       "3                        0  General Petite         Bottoms      Pants   \n",
       "4                        6         General            Tops    Blouses   \n",
       "\n",
       "                                        Clean_Review  \n",
       "0  absolutely wonderful   silky and sexy and comf...  \n",
       "1  love this dress   it 's sooo pretty  i happene...  \n",
       "2  i had such high hope for this dress and really...  \n",
       "3  i love   love   love this jumpsuit  it 's fun ...  \n",
       "4  this shirt is very flattering to all due to th...  "
      ]
     },
     "execution_count": 19,
     "metadata": {},
     "output_type": "execute_result"
    }
   ],
   "source": [
    "df = pd.read_csv(\"./cleaned_data.csv\")\n",
    "df.head()"
   ]
  },
  {
   "cell_type": "markdown",
   "metadata": {},
   "source": [
    "Machine learninng algorithms does not recognize words and texts. They only know vectors and numbers; That's why we transform clean texts' words to vectors. Then we can feed them to our models."
   ]
  },
  {
   "cell_type": "code",
   "execution_count": 20,
   "metadata": {},
   "outputs": [],
   "source": [
    "vectorizer = CountVectorizer()\n",
    "\n",
    "X = vectorizer.fit_transform(df['Clean_Review'])"
   ]
  },
  {
   "cell_type": "markdown",
   "metadata": {},
   "source": [
    "### * Create a function to find the best hyperparameters for each model and also define suitable models"
   ]
  },
  {
   "cell_type": "code",
   "execution_count": 21,
   "metadata": {},
   "outputs": [],
   "source": [
    "def tune_model(model, model_param, train, test):\n",
    "    grse = GridSearchCV(model, model_param, scoring=\"accuracy\", cv=5)\n",
    "    \n",
    "    grse.fit(train, test)\n",
    "    \n",
    "    print(\"best score is: {}\".format(grse.best_score_))\n",
    "    print(\"best estimatior is: {}\".format(grse.best_estimator_))    \n",
    "    \n",
    "    return grse.best_score_, grse.best_estimator_"
   ]
  },
  {
   "cell_type": "markdown",
   "metadata": {},
   "source": [
    "We define three models. SVM, Random Forest and Naive Baysian. We also define a dictionary to save some values for these algorithms hyper-parameters. Then we can tune our models hyper-paramters and choose best set of hyper-paramteres for them. This process might be time consuming which is why we save the models for later usages."
   ]
  },
  {
   "cell_type": "code",
   "execution_count": 22,
   "metadata": {},
   "outputs": [],
   "source": [
    "from sklearn.naive_bayes import MultinomialNB\n",
    "from sklearn.svm import SVC\n",
    "from sklearn.ensemble import RandomForestClassifier\n",
    "\n",
    "alpha = np.array([0.1, 1, 10, 100])\n",
    "models = [SVC(), RandomForestClassifier(), MultinomialNB()]\n",
    "models_param = [\n",
    "    {\"C\": (1, 10, 20, 50), \"gamma\": (\"scale\", \"auto\", 0.1, 1)},\n",
    "    {\"n_estimators\": (70, 80, 90, 100), 'criterion': (\"gini\", \"entropy\"), \"max_depth\": (5, 6, 7, 10, 25)},\n",
    "    {\"alpha\": alpha}\n",
    "]"
   ]
  },
  {
   "cell_type": "markdown",
   "metadata": {},
   "source": [
    "### * Recommend prediction"
   ]
  },
  {
   "cell_type": "markdown",
   "metadata": {},
   "source": [
    "First we train our models for predicting Recommendation. Our target is boolean therefor our model should predict whether the products is recomended according to its text or not.  "
   ]
  },
  {
   "cell_type": "code",
   "execution_count": 23,
   "metadata": {},
   "outputs": [],
   "source": [
    "y_recom = df['Recommended IND']"
   ]
  },
  {
   "cell_type": "code",
   "execution_count": 24,
   "metadata": {},
   "outputs": [],
   "source": [
    "X_train_recom, X_test_recom, y_train_recom, y_test_recom = train_test_split(X, y_recom, test_size=0.33, random_state=1234)"
   ]
  },
  {
   "cell_type": "code",
   "execution_count": 25,
   "metadata": {},
   "outputs": [],
   "source": [
    "models_recom_acc = []\n",
    "models_recom_holder = []"
   ]
  },
  {
   "cell_type": "code",
   "execution_count": 26,
   "metadata": {},
   "outputs": [
    {
     "name": "stdout",
     "output_type": "stream",
     "text": [
      "best score is: 0.8866769208232622\n",
      "best estimatior is: SVC(C=10)\n",
      "best score is: 0.8191047890910379\n",
      "best estimatior is: RandomForestClassifier(max_depth=25, n_estimators=70)\n",
      "best score is: 0.8868743318117278\n",
      "best estimatior is: MultinomialNB()\n"
     ]
    }
   ],
   "source": [
    "for ind, model in enumerate(models):\n",
    "    accuracy, model_fited = tune_model(model, models_param[ind], X_train_recom, y_train_recom)\n",
    "    models_recom_acc.append(accuracy)\n",
    "    models_recom_holder.append(model_fited)"
   ]
  },
  {
   "cell_type": "code",
   "execution_count": 27,
   "metadata": {
    "scrolled": true
   },
   "outputs": [
    {
     "data": {
      "text/plain": [
       "[SVC(C=10),\n",
       " RandomForestClassifier(max_depth=25, n_estimators=70),\n",
       " MultinomialNB()]"
      ]
     },
     "execution_count": 27,
     "metadata": {},
     "output_type": "execute_result"
    }
   ],
   "source": [
    "models_recom_holder"
   ]
  },
  {
   "cell_type": "markdown",
   "metadata": {},
   "source": [
    "### * Save Recommendation predictor Models"
   ]
  },
  {
   "cell_type": "code",
   "execution_count": 29,
   "metadata": {},
   "outputs": [
    {
     "data": {
      "text/plain": [
       "['nb_recom.sav']"
      ]
     },
     "execution_count": 29,
     "metadata": {},
     "output_type": "execute_result"
    }
   ],
   "source": [
    "svc_recom_file = 'svc_recom.sav'\n",
    "joblib.dump(models_recom_holder[0], svc_recom_file)\n",
    "\n",
    "rf_recom_file = 'rf_recom.sav'\n",
    "joblib.dump(models_recom_holder[1], rf_recom_file)\n",
    "\n",
    "nb_recom_file = 'nb_recom.sav'\n",
    "joblib.dump(models_recom_holder[2], nb_recom_file)"
   ]
  },
  {
   "cell_type": "markdown",
   "metadata": {},
   "source": [
    "#### * Evaluate recommendation predictor models"
   ]
  },
  {
   "cell_type": "code",
   "execution_count": 31,
   "metadata": {
    "scrolled": true
   },
   "outputs": [
    {
     "name": "stdout",
     "output_type": "stream",
     "text": [
      "Model 0\n",
      "Accuracy on train data [0.88669171 0.8789557  0.88568038]\n",
      "Accuracy on test data [0.88197511 0.88317945 0.87831325]\n",
      "Model 1\n",
      "Accuracy on train data [0.81886494 0.81863133 0.81922468]\n",
      "Accuracy on test data [0.82175833 0.82296267 0.82248996]\n",
      "Model 2\n",
      "Accuracy on train data [0.89104212 0.8789557  0.8840981 ]\n",
      "Accuracy on test data [0.86391008 0.87354476 0.87068273]\n"
     ]
    }
   ],
   "source": [
    "model_recom_cross_vall_train = []\n",
    "model_recom_cross_vall_test = []\n",
    "\n",
    "for ind, model in enumerate(models_recom_holder):\n",
    "    print(\"Model %i\" % (ind))\n",
    "    \n",
    "    train_predict = cross_val_score(model, X_train_recom, y_train_recom, cv=3)\n",
    "    model_recom_cross_vall_train.append(train_predict)\n",
    "    print(\"Accuracy on train data {}\".format(train_predict))\n",
    "    \n",
    "    test_predict = cross_val_score(model, X_test_recom, y_test_recom, cv=3)\n",
    "    model_recom_cross_vall_test.append(train_predict)\n",
    "    print(\"Accuracy on test data {}\".format(test_predict))"
   ]
  },
  {
   "cell_type": "markdown",
   "metadata": {},
   "source": [
    "### * Rating predictor"
   ]
  },
  {
   "cell_type": "markdown",
   "metadata": {},
   "source": [
    "Here we train our models "
   ]
  },
  {
   "cell_type": "code",
   "execution_count": 32,
   "metadata": {},
   "outputs": [],
   "source": [
    "y_rating = df['Rating']\n",
    "X_train_rating, X_test_rating, y_train_rating, y_test_rating = train_test_split(X, y_rating, test_size=0.33, random_state=1234)"
   ]
  },
  {
   "cell_type": "code",
   "execution_count": 33,
   "metadata": {},
   "outputs": [],
   "source": [
    "models_rating_acc = []\n",
    "models_rating_holder = []"
   ]
  },
  {
   "cell_type": "code",
   "execution_count": 34,
   "metadata": {},
   "outputs": [
    {
     "name": "stdout",
     "output_type": "stream",
     "text": [
      "best score is: 0.6246944998121086\n",
      "best estimatior is: SVC(C=10)\n",
      "best score is: 0.551585471264128\n",
      "best estimatior is: RandomForestClassifier(max_depth=25, n_estimators=80)\n",
      "best score is: 0.6266721523579019\n",
      "best estimatior is: MultinomialNB()\n"
     ]
    }
   ],
   "source": [
    "for ind, model in enumerate(models):\n",
    "    accuracy, model_fited = tune_model(model, models_param[ind], X_train_rating, y_train_rating)\n",
    "    models_rating_acc.append(accuracy)\n",
    "    models_rating_holder.append(model_fited)"
   ]
  },
  {
   "cell_type": "code",
   "execution_count": 35,
   "metadata": {},
   "outputs": [
    {
     "data": {
      "text/plain": [
       "['nb_rating.sav']"
      ]
     },
     "execution_count": 35,
     "metadata": {},
     "output_type": "execute_result"
    }
   ],
   "source": [
    "svc_rating_file = 'svc_rating.sav'\n",
    "joblib.dump(models_rating_holder[0], svc_rating_file)\n",
    "\n",
    "rf_rating_file = 'rf_rating.sav'\n",
    "joblib.dump(models_rating_holder[1], rf_rating_file)\n",
    "\n",
    "nb_rating_file = 'nb_rating.sav'\n",
    "joblib.dump(models_rating_holder[2], nb_rating_file)"
   ]
  },
  {
   "cell_type": "code",
   "execution_count": 36,
   "metadata": {
    "scrolled": true
   },
   "outputs": [
    {
     "name": "stdout",
     "output_type": "stream",
     "text": [
      "Model 0\n",
      "Accuracy on train data [0.61755982 0.62697785 0.62005538]\n",
      "Accuracy on test data [0.61340827 0.60939382 0.6184739 ]\n",
      "Model 1\n",
      "Accuracy on train data [0.55111726 0.55122627 0.55102848]\n",
      "Accuracy on test data [0.56122039 0.56162184 0.56345382]\n",
      "Model 2\n",
      "Accuracy on train data [0.61973502 0.63034019 0.61728639]\n",
      "Accuracy on test data [0.59654757 0.59092734 0.59638554]\n"
     ]
    }
   ],
   "source": [
    "model_rating_cross_vall_train = []\n",
    "model_rating_cross_vall_test = []\n",
    "\n",
    "for ind, model in enumerate(models_rating_holder):\n",
    "    print(\"Model %i\" % (ind))\n",
    "    \n",
    "    train_predict = cross_val_score(model, X_train_rating, y_train_rating, cv=3)\n",
    "    model_rating_cross_vall_train.append(train_predict)\n",
    "    print(\"Accuracy on train data {}\".format(train_predict))\n",
    "    \n",
    "    test_predict = cross_val_score(model, X_test_rating, y_test_rating, cv=3)\n",
    "    model_rating_cross_vall_test.append(train_predict)\n",
    "    print(\"Accuracy on test data {}\".format(test_predict))"
   ]
  },
  {
   "cell_type": "markdown",
   "metadata": {},
   "source": [
    "## Load saved models"
   ]
  },
  {
   "cell_type": "code",
   "execution_count": 3,
   "metadata": {},
   "outputs": [],
   "source": [
    "models_recom_holder = []\n",
    "models_rating_holder = []\n",
    "\n",
    "models_recom_holder.append(joblib.load(\"./svc_recom.sav\"))\n",
    "models_recom_holder.append(joblib.load(\"./rf_recom.sav\"))\n",
    "models_recom_holder.append(joblib.load(\"./nb_recom.sav\"))\n",
    "\n",
    "models_rating_holder.append(joblib.load(\"./svc_rating.sav\"))\n",
    "models_rating_holder.append(joblib.load(\"./rf_rating.sav\"))\n",
    "models_rating_holder.append(joblib.load(\"./nb_rating.sav\"))"
   ]
  },
  {
   "cell_type": "markdown",
   "metadata": {},
   "source": [
    "### Read pre processed data"
   ]
  },
  {
   "cell_type": "code",
   "execution_count": 4,
   "metadata": {
    "scrolled": true
   },
   "outputs": [
    {
     "data": {
      "text/html": [
       "<div>\n",
       "<style scoped>\n",
       "    .dataframe tbody tr th:only-of-type {\n",
       "        vertical-align: middle;\n",
       "    }\n",
       "\n",
       "    .dataframe tbody tr th {\n",
       "        vertical-align: top;\n",
       "    }\n",
       "\n",
       "    .dataframe thead th {\n",
       "        text-align: right;\n",
       "    }\n",
       "</style>\n",
       "<table border=\"1\" class=\"dataframe\">\n",
       "  <thead>\n",
       "    <tr style=\"text-align: right;\">\n",
       "      <th></th>\n",
       "      <th>Unnamed: 0</th>\n",
       "      <th>Unnamed: 0.1</th>\n",
       "      <th>Clothing ID</th>\n",
       "      <th>Age</th>\n",
       "      <th>Title</th>\n",
       "      <th>Review Text</th>\n",
       "      <th>Rating</th>\n",
       "      <th>Recommended IND</th>\n",
       "      <th>Positive Feedback Count</th>\n",
       "      <th>Division Name</th>\n",
       "      <th>Department Name</th>\n",
       "      <th>Class Name</th>\n",
       "      <th>Clean_Review</th>\n",
       "    </tr>\n",
       "  </thead>\n",
       "  <tbody>\n",
       "    <tr>\n",
       "      <th>0</th>\n",
       "      <td>0</td>\n",
       "      <td>0</td>\n",
       "      <td>767</td>\n",
       "      <td>33</td>\n",
       "      <td>NaN</td>\n",
       "      <td>Absolutely wonderful - silky and sexy and comf...</td>\n",
       "      <td>4</td>\n",
       "      <td>1</td>\n",
       "      <td>0</td>\n",
       "      <td>Initmates</td>\n",
       "      <td>Intimate</td>\n",
       "      <td>Intimates</td>\n",
       "      <td>absolutely wonderful   silky and sexy and comf...</td>\n",
       "    </tr>\n",
       "    <tr>\n",
       "      <th>1</th>\n",
       "      <td>1</td>\n",
       "      <td>1</td>\n",
       "      <td>1080</td>\n",
       "      <td>34</td>\n",
       "      <td>NaN</td>\n",
       "      <td>Love this dress!  it's sooo pretty.  i happene...</td>\n",
       "      <td>5</td>\n",
       "      <td>1</td>\n",
       "      <td>4</td>\n",
       "      <td>General</td>\n",
       "      <td>Dresses</td>\n",
       "      <td>Dresses</td>\n",
       "      <td>love this dress   it 's sooo pretty  i happene...</td>\n",
       "    </tr>\n",
       "    <tr>\n",
       "      <th>2</th>\n",
       "      <td>2</td>\n",
       "      <td>2</td>\n",
       "      <td>1077</td>\n",
       "      <td>60</td>\n",
       "      <td>Some major design flaws</td>\n",
       "      <td>I had such high hopes for this dress and reall...</td>\n",
       "      <td>3</td>\n",
       "      <td>0</td>\n",
       "      <td>0</td>\n",
       "      <td>General</td>\n",
       "      <td>Dresses</td>\n",
       "      <td>Dresses</td>\n",
       "      <td>i had such high hope for this dress and really...</td>\n",
       "    </tr>\n",
       "    <tr>\n",
       "      <th>3</th>\n",
       "      <td>3</td>\n",
       "      <td>3</td>\n",
       "      <td>1049</td>\n",
       "      <td>50</td>\n",
       "      <td>My favorite buy!</td>\n",
       "      <td>I love, love, love this jumpsuit. it's fun, fl...</td>\n",
       "      <td>5</td>\n",
       "      <td>1</td>\n",
       "      <td>0</td>\n",
       "      <td>General Petite</td>\n",
       "      <td>Bottoms</td>\n",
       "      <td>Pants</td>\n",
       "      <td>i love   love   love this jumpsuit  it 's fun ...</td>\n",
       "    </tr>\n",
       "    <tr>\n",
       "      <th>4</th>\n",
       "      <td>4</td>\n",
       "      <td>4</td>\n",
       "      <td>847</td>\n",
       "      <td>47</td>\n",
       "      <td>Flattering shirt</td>\n",
       "      <td>This shirt is very flattering to all due to th...</td>\n",
       "      <td>5</td>\n",
       "      <td>1</td>\n",
       "      <td>6</td>\n",
       "      <td>General</td>\n",
       "      <td>Tops</td>\n",
       "      <td>Blouses</td>\n",
       "      <td>this shirt is very flattering to all due to th...</td>\n",
       "    </tr>\n",
       "  </tbody>\n",
       "</table>\n",
       "</div>"
      ],
      "text/plain": [
       "   Unnamed: 0  Unnamed: 0.1  Clothing ID  Age                    Title  \\\n",
       "0           0             0          767   33                      NaN   \n",
       "1           1             1         1080   34                      NaN   \n",
       "2           2             2         1077   60  Some major design flaws   \n",
       "3           3             3         1049   50         My favorite buy!   \n",
       "4           4             4          847   47         Flattering shirt   \n",
       "\n",
       "                                         Review Text  Rating  Recommended IND  \\\n",
       "0  Absolutely wonderful - silky and sexy and comf...       4                1   \n",
       "1  Love this dress!  it's sooo pretty.  i happene...       5                1   \n",
       "2  I had such high hopes for this dress and reall...       3                0   \n",
       "3  I love, love, love this jumpsuit. it's fun, fl...       5                1   \n",
       "4  This shirt is very flattering to all due to th...       5                1   \n",
       "\n",
       "   Positive Feedback Count   Division Name Department Name Class Name  \\\n",
       "0                        0       Initmates        Intimate  Intimates   \n",
       "1                        4         General         Dresses    Dresses   \n",
       "2                        0         General         Dresses    Dresses   \n",
       "3                        0  General Petite         Bottoms      Pants   \n",
       "4                        6         General            Tops    Blouses   \n",
       "\n",
       "                                        Clean_Review  \n",
       "0  absolutely wonderful   silky and sexy and comf...  \n",
       "1  love this dress   it 's sooo pretty  i happene...  \n",
       "2  i had such high hope for this dress and really...  \n",
       "3  i love   love   love this jumpsuit  it 's fun ...  \n",
       "4  this shirt is very flattering to all due to th...  "
      ]
     },
     "execution_count": 4,
     "metadata": {},
     "output_type": "execute_result"
    }
   ],
   "source": [
    "df = pd.read_csv(\"./cleaned_data.csv\")\n",
    "df.head()"
   ]
  },
  {
   "cell_type": "markdown",
   "metadata": {},
   "source": [
    "### Vectorize texts and split train and test data"
   ]
  },
  {
   "cell_type": "code",
   "execution_count": 5,
   "metadata": {},
   "outputs": [],
   "source": [
    "vectorizer = CountVectorizer()\n",
    "X = vectorizer.fit_transform(df['Clean_Review'])\n",
    "\n",
    "y_recom = df['Recommended IND']\n",
    "X_train_recom, X_test_recom, y_train_recom, y_test_recom = train_test_split(X, y_recom, test_size=0.33, random_state=1234)\n",
    "\n",
    "y_rating = df['Rating']\n",
    "X_train_rating, X_test_rating, y_train_rating, y_test_rating = train_test_split(X, y_rating, test_size=0.33, random_state=1234)"
   ]
  },
  {
   "cell_type": "markdown",
   "metadata": {},
   "source": [
    "**Now we have loaded models to our models holder list. We also prepared our text data and split them into train and test sets. So now we only need to check their accuracy on train and test data. We use cross validation score. Which is split data into some batchs and check accuracy on them. This process helps us to be sure that our model accuracy is not because of data bias. for example we can be sure that our train and test are equaly hard for the model to predict and our model result is more reliable when we use cross validation.**"
   ]
  },
  {
   "cell_type": "markdown",
   "metadata": {},
   "source": [
    "## Check Recommendation predictor models accuracy."
   ]
  },
  {
   "cell_type": "code",
   "execution_count": 7,
   "metadata": {},
   "outputs": [],
   "source": [
    "model_recom_cross_vall_train = {}\n",
    "model_recom_cross_vall_test = {}"
   ]
  },
  {
   "cell_type": "markdown",
   "metadata": {},
   "source": [
    "### Check SVM algorithm accuracy"
   ]
  },
  {
   "cell_type": "code",
   "execution_count": 9,
   "metadata": {},
   "outputs": [
    {
     "name": "stdout",
     "output_type": "stream",
     "text": [
      "SVM evaluation in recommendation prediction: \n",
      "Accuracy on train data 0.8837759301348592 (88.37759301348592 %)\n",
      "Accuracy on test data 0.8811559364716998 (88.11559364716997 %)\n"
     ]
    }
   ],
   "source": [
    "print(\"SVM evaluation in recommendation prediction: \")\n",
    "train_predict = cross_val_score(models_recom_holder[0], X_train_recom, y_train_recom, cv=3)\n",
    "model_recom_cross_vall_train[\"SVM\"] = train_predict.mean()\n",
    "print(\"Accuracy on train data {} ({} %)\".format(train_predict.mean(), train_predict.mean() * 100))\n",
    "\n",
    "test_predict = cross_val_score(models_recom_holder[0], X_test_recom, y_test_recom, cv=3)\n",
    "model_recom_cross_vall_test[\"SVM\"] = test_predict.mean()\n",
    "print(\"Accuracy on test data {} ({} %)\".format(test_predict.mean(), test_predict.mean() * 100))"
   ]
  },
  {
   "cell_type": "markdown",
   "metadata": {},
   "source": [
    "### Check Random forest algorithm accuracy"
   ]
  },
  {
   "cell_type": "code",
   "execution_count": 10,
   "metadata": {},
   "outputs": [
    {
     "name": "stdout",
     "output_type": "stream",
     "text": [
      "Random Forest evaluation in recommendation prediction: \n",
      "Accuracy on train data 0.8190388276183157 (81.90388276183157 %)\n",
      "Accuracy on test data 0.8229389658191174 (82.29389658191174 %)\n"
     ]
    }
   ],
   "source": [
    "print(\"Random Forest evaluation in recommendation prediction: \")\n",
    "train_predict = cross_val_score(models_recom_holder[1], X_train_recom, y_train_recom, cv=3)\n",
    "model_recom_cross_vall_train[\"RF\"] = train_predict.mean()\n",
    "print(\"Accuracy on train data {} ({} %)\".format(train_predict.mean(), train_predict.mean() * 100))\n",
    "\n",
    "test_predict = cross_val_score(models_recom_holder[1], X_test_recom, y_test_recom, cv=3)\n",
    "model_recom_cross_vall_test[\"RF\"] = test_predict.mean()\n",
    "print(\"Accuracy on test data {} ({} %)\".format(test_predict.mean(), test_predict.mean() * 100))"
   ]
  },
  {
   "cell_type": "markdown",
   "metadata": {},
   "source": [
    "### Check Naive bayes algorithm accuracy"
   ]
  },
  {
   "cell_type": "code",
   "execution_count": 15,
   "metadata": {},
   "outputs": [
    {
     "name": "stdout",
     "output_type": "stream",
     "text": [
      "Naive bayes evaluation in recommendation prediction: \n",
      "Accuracy on train data 0.8846986391007493 (88.46986391007493 %)\n",
      "Accuracy on test data 0.8693791894461292 (86.93791894461292 %)\n"
     ]
    }
   ],
   "source": [
    "print(\"Naive bayes evaluation in recommendation prediction: \")\n",
    "train_predict = cross_val_score(models_recom_holder[2], X_train_recom, y_train_recom, cv=3)\n",
    "model_recom_cross_vall_train[\"NB\"] = train_predict.mean()\n",
    "print(\"Accuracy on train data {} ({} %)\".format(train_predict.mean(), train_predict.mean() * 100))\n",
    "\n",
    "test_predict = cross_val_score(models_recom_holder[2], X_test_recom, y_test_recom, cv=3)\n",
    "model_recom_cross_vall_test[\"NB\"] = train_predict.mean()\n",
    "print(\"Accuracy on test data {} ({} %)\".format(test_predict.mean(), test_predict.mean() * 100))"
   ]
  },
  {
   "cell_type": "markdown",
   "metadata": {},
   "source": [
    "## Check Rating predictor models accuracy"
   ]
  },
  {
   "cell_type": "code",
   "execution_count": 12,
   "metadata": {},
   "outputs": [],
   "source": [
    "model_rating_cross_vall_train = {}\n",
    "model_rating_cross_vall_test = {}"
   ]
  },
  {
   "cell_type": "markdown",
   "metadata": {},
   "source": [
    "### Check SVM algorithm accuracy"
   ]
  },
  {
   "cell_type": "code",
   "execution_count": 13,
   "metadata": {},
   "outputs": [
    {
     "name": "stdout",
     "output_type": "stream",
     "text": [
      "Accuracy on train data 0.6215310153073528 (62.15310153073528 %)\n",
      "Accuracy on test data 0.6137586610324611 (61.37586610324611 %)\n"
     ]
    }
   ],
   "source": [
    "train_predict = cross_val_score(models_rating_holder[0], X_train_rating, y_train_rating, cv=3)\n",
    "model_rating_cross_vall_train[\"SVM\"] = train_predict.mean()\n",
    "print(\"Accuracy on train data {} ({} %)\".format(train_predict.mean(), train_predict.mean() * 100))\n",
    "\n",
    "test_predict = cross_val_score(models_rating_holder[0], X_test_rating, y_test_rating, cv=3)\n",
    "model_rating_cross_vall_test[\"SVM\"] = test_predict.mean()\n",
    "print(\"Accuracy on test data {} ({} %)\".format(test_predict.mean(), test_predict.mean() * 100))"
   ]
  },
  {
   "cell_type": "markdown",
   "metadata": {},
   "source": [
    "### Check Random foresr algorithm accuracy"
   ]
  },
  {
   "cell_type": "code",
   "execution_count": 16,
   "metadata": {},
   "outputs": [
    {
     "name": "stdout",
     "output_type": "stream",
     "text": [
      "Accuracy on train data 0.551124042456085 (55.1124042456085 %)\n",
      "Accuracy on test data 0.5626337814794572 (56.26337814794572 %)\n"
     ]
    }
   ],
   "source": [
    "train_predict = cross_val_score(models_rating_holder[1], X_train_rating, y_train_rating, cv=3)\n",
    "model_rating_cross_vall_train[\"RF\"] = train_predict.mean()\n",
    "print(\"Accuracy on train data {} ({} %)\".format(train_predict.mean(), train_predict.mean() * 100))\n",
    "\n",
    "test_predict = cross_val_score(models_rating_holder[1], X_test_rating, y_test_rating, cv=3)\n",
    "model_rating_cross_vall_test[\"RF\"] = test_predict.mean()\n",
    "print(\"Accuracy on test data {} ({} %)\".format(test_predict.mean(), test_predict.mean() * 100))"
   ]
  },
  {
   "cell_type": "markdown",
   "metadata": {},
   "source": [
    "### Check Naive bayes algorithm accuracy"
   ]
  },
  {
   "cell_type": "code",
   "execution_count": 17,
   "metadata": {},
   "outputs": [
    {
     "name": "stdout",
     "output_type": "stream",
     "text": [
      "Accuracy on train data 0.6224538676805932 (62.24538676805932 %)\n",
      "Accuracy on test data 0.5946201506145014 (59.46201506145014 %)\n"
     ]
    }
   ],
   "source": [
    "train_predict = cross_val_score(models_rating_holder[2], X_train_rating, y_train_rating, cv=3)\n",
    "model_rating_cross_vall_train[\"NB\"] = train_predict.mean()\n",
    "print(\"Accuracy on train data {} ({} %)\".format(train_predict.mean(), train_predict.mean() * 100))\n",
    "\n",
    "test_predict = cross_val_score(models_rating_holder[2], X_test_rating, y_test_rating, cv=3)\n",
    "model_rating_cross_vall_test[\"NB\"] = test_predict.mean()\n",
    "print(\"Accuracy on test data {} ({} %)\".format(test_predict.mean(), test_predict.mean() * 100))"
   ]
  },
  {
   "cell_type": "markdown",
   "metadata": {},
   "source": [
    "## Details:"
   ]
  },
  {
   "cell_type": "markdown",
   "metadata": {},
   "source": [
    "**As it can be seen from both predictors results, the recommendation predictors have a very reliable and better accuracy in compare to rating models. Its beacuse the recommendation prediction is a binary (boolean) classification which is very easier than multi-class classification (such as rating prediction). The recommendation predictors only need to determine whether the record have been recommended or not judging by its review text. Whereas the rating predictors should be abled to predict the rating of the record which is a number between 1 and 5. Therefor we have 5 class in this problem; That's why the rating models accuracy is much lower than recommendation models.**"
   ]
  },
  {
   "cell_type": "code",
   "execution_count": null,
   "metadata": {},
   "outputs": [],
   "source": []
  },
  {
   "cell_type": "code",
   "execution_count": null,
   "metadata": {},
   "outputs": [],
   "source": []
  }
 ],
 "metadata": {
  "kernelspec": {
   "display_name": "Python 3",
   "language": "python",
   "name": "python3"
  },
  "language_info": {
   "codemirror_mode": {
    "name": "ipython",
    "version": 3
   },
   "file_extension": ".py",
   "mimetype": "text/x-python",
   "name": "python",
   "nbconvert_exporter": "python",
   "pygments_lexer": "ipython3",
   "version": "3.8.3"
  }
 },
 "nbformat": 4,
 "nbformat_minor": 4
}
