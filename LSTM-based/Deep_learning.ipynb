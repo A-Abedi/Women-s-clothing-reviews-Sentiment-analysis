{
 "cells": [
  {
   "cell_type": "code",
   "execution_count": 14,
   "metadata": {
    "id": "plujSWSff1Pn"
   },
   "outputs": [],
   "source": [
    "import numpy as np\n",
    "import pandas as pd\n",
    "from keras.models import Sequential\n",
    "from keras.layers import Dense, Input, Dropout, LSTM, Activation, Embedding, Bidirectional\n",
    "from keras.preprocessing.text import Tokenizer\n",
    "from keras.initializers import Constant\n",
    "from keras.callbacks import EarlyStopping, ModelCheckpoint\n",
    "from keras.utils import to_categorical\n",
    "from keras.preprocessing.sequence import pad_sequences\n",
    "from keras.regularizers import l2, l1, l1_l2\n",
    "\n",
    "from sklearn.model_selection import train_test_split, StratifiedShuffleSplit\n",
    "from sklearn.metrics import roc_curve, auc\n",
    "from sklearn.metrics import confusion_matrix\n",
    "import sklearn.metrics as mt\n",
    "import warnings\n",
    "from tensorflow import keras\n",
    "\n",
    "warnings.filterwarnings('ignore')"
   ]
  },
  {
   "cell_type": "markdown",
   "metadata": {},
   "source": [
    "## Pre-process and train models"
   ]
  },
  {
   "cell_type": "code",
   "execution_count": 2,
   "metadata": {
    "colab": {
     "base_uri": "https://localhost:8080/",
     "height": 306
    },
    "id": "X21b8ft1f1Po",
    "outputId": "e84d7c1c-6d79-4a9a-87a6-e6949841fe77",
    "scrolled": true
   },
   "outputs": [
    {
     "data": {
      "text/html": [
       "<div>\n",
       "<style scoped>\n",
       "    .dataframe tbody tr th:only-of-type {\n",
       "        vertical-align: middle;\n",
       "    }\n",
       "\n",
       "    .dataframe tbody tr th {\n",
       "        vertical-align: top;\n",
       "    }\n",
       "\n",
       "    .dataframe thead th {\n",
       "        text-align: right;\n",
       "    }\n",
       "</style>\n",
       "<table border=\"1\" class=\"dataframe\">\n",
       "  <thead>\n",
       "    <tr style=\"text-align: right;\">\n",
       "      <th></th>\n",
       "      <th>Unnamed: 0</th>\n",
       "      <th>Unnamed: 0.1</th>\n",
       "      <th>Clothing ID</th>\n",
       "      <th>Age</th>\n",
       "      <th>Title</th>\n",
       "      <th>Review Text</th>\n",
       "      <th>Rating</th>\n",
       "      <th>Recommended IND</th>\n",
       "      <th>Positive Feedback Count</th>\n",
       "      <th>Division Name</th>\n",
       "      <th>Department Name</th>\n",
       "      <th>Class Name</th>\n",
       "      <th>Clean_Review</th>\n",
       "    </tr>\n",
       "  </thead>\n",
       "  <tbody>\n",
       "    <tr>\n",
       "      <th>0</th>\n",
       "      <td>0</td>\n",
       "      <td>0</td>\n",
       "      <td>767</td>\n",
       "      <td>33</td>\n",
       "      <td>NaN</td>\n",
       "      <td>Absolutely wonderful - silky and sexy and comf...</td>\n",
       "      <td>4</td>\n",
       "      <td>1</td>\n",
       "      <td>0</td>\n",
       "      <td>Initmates</td>\n",
       "      <td>Intimate</td>\n",
       "      <td>Intimates</td>\n",
       "      <td>absolutely wonderful   silky and sexy and comf...</td>\n",
       "    </tr>\n",
       "    <tr>\n",
       "      <th>1</th>\n",
       "      <td>1</td>\n",
       "      <td>1</td>\n",
       "      <td>1080</td>\n",
       "      <td>34</td>\n",
       "      <td>NaN</td>\n",
       "      <td>Love this dress!  it's sooo pretty.  i happene...</td>\n",
       "      <td>5</td>\n",
       "      <td>1</td>\n",
       "      <td>4</td>\n",
       "      <td>General</td>\n",
       "      <td>Dresses</td>\n",
       "      <td>Dresses</td>\n",
       "      <td>love this dress   it 's sooo pretty  i happene...</td>\n",
       "    </tr>\n",
       "    <tr>\n",
       "      <th>2</th>\n",
       "      <td>2</td>\n",
       "      <td>2</td>\n",
       "      <td>1077</td>\n",
       "      <td>60</td>\n",
       "      <td>Some major design flaws</td>\n",
       "      <td>I had such high hopes for this dress and reall...</td>\n",
       "      <td>3</td>\n",
       "      <td>0</td>\n",
       "      <td>0</td>\n",
       "      <td>General</td>\n",
       "      <td>Dresses</td>\n",
       "      <td>Dresses</td>\n",
       "      <td>i had such high hope for this dress and really...</td>\n",
       "    </tr>\n",
       "    <tr>\n",
       "      <th>3</th>\n",
       "      <td>3</td>\n",
       "      <td>3</td>\n",
       "      <td>1049</td>\n",
       "      <td>50</td>\n",
       "      <td>My favorite buy!</td>\n",
       "      <td>I love, love, love this jumpsuit. it's fun, fl...</td>\n",
       "      <td>5</td>\n",
       "      <td>1</td>\n",
       "      <td>0</td>\n",
       "      <td>General Petite</td>\n",
       "      <td>Bottoms</td>\n",
       "      <td>Pants</td>\n",
       "      <td>i love   love   love this jumpsuit  it 's fun ...</td>\n",
       "    </tr>\n",
       "    <tr>\n",
       "      <th>4</th>\n",
       "      <td>4</td>\n",
       "      <td>4</td>\n",
       "      <td>847</td>\n",
       "      <td>47</td>\n",
       "      <td>Flattering shirt</td>\n",
       "      <td>This shirt is very flattering to all due to th...</td>\n",
       "      <td>5</td>\n",
       "      <td>1</td>\n",
       "      <td>6</td>\n",
       "      <td>General</td>\n",
       "      <td>Tops</td>\n",
       "      <td>Blouses</td>\n",
       "      <td>this shirt is very flattering to all due to th...</td>\n",
       "    </tr>\n",
       "  </tbody>\n",
       "</table>\n",
       "</div>"
      ],
      "text/plain": [
       "   Unnamed: 0  Unnamed: 0.1  Clothing ID  Age                    Title  \\\n",
       "0           0             0          767   33                      NaN   \n",
       "1           1             1         1080   34                      NaN   \n",
       "2           2             2         1077   60  Some major design flaws   \n",
       "3           3             3         1049   50         My favorite buy!   \n",
       "4           4             4          847   47         Flattering shirt   \n",
       "\n",
       "                                         Review Text  Rating  Recommended IND  \\\n",
       "0  Absolutely wonderful - silky and sexy and comf...       4                1   \n",
       "1  Love this dress!  it's sooo pretty.  i happene...       5                1   \n",
       "2  I had such high hopes for this dress and reall...       3                0   \n",
       "3  I love, love, love this jumpsuit. it's fun, fl...       5                1   \n",
       "4  This shirt is very flattering to all due to th...       5                1   \n",
       "\n",
       "   Positive Feedback Count   Division Name Department Name Class Name  \\\n",
       "0                        0       Initmates        Intimate  Intimates   \n",
       "1                        4         General         Dresses    Dresses   \n",
       "2                        0         General         Dresses    Dresses   \n",
       "3                        0  General Petite         Bottoms      Pants   \n",
       "4                        6         General            Tops    Blouses   \n",
       "\n",
       "                                        Clean_Review  \n",
       "0  absolutely wonderful   silky and sexy and comf...  \n",
       "1  love this dress   it 's sooo pretty  i happene...  \n",
       "2  i had such high hope for this dress and really...  \n",
       "3  i love   love   love this jumpsuit  it 's fun ...  \n",
       "4  this shirt is very flattering to all due to th...  "
      ]
     },
     "execution_count": 2,
     "metadata": {},
     "output_type": "execute_result"
    }
   ],
   "source": [
    "df = pd.read_csv(\"./cleaned_data.csv\")\n",
    "df.head()"
   ]
  },
  {
   "cell_type": "code",
   "execution_count": 3,
   "metadata": {
    "colab": {
     "base_uri": "https://localhost:8080/"
    },
    "id": "-I_qNs9ff1Pp",
    "outputId": "12ff7500-da3e-4a4d-c7cf-119d75054f09"
   },
   "outputs": [
    {
     "data": {
      "text/plain": [
       "(22641, 13)"
      ]
     },
     "execution_count": 3,
     "metadata": {},
     "output_type": "execute_result"
    }
   ],
   "source": [
    "df.shape"
   ]
  },
  {
   "cell_type": "code",
   "execution_count": 4,
   "metadata": {
    "id": "Se6KDqvOf1Pq"
   },
   "outputs": [],
   "source": [
    "X = np.array(df['Clean_Review'])\n",
    "\n",
    "y_recom = np.array(df['Recommended IND'])\n",
    "y_rating = np.array(df['Rating'])"
   ]
  },
  {
   "cell_type": "markdown",
   "metadata": {},
   "source": [
    "### Tokenize words (change the to numeric values)"
   ]
  },
  {
   "cell_type": "code",
   "execution_count": 5,
   "metadata": {
    "id": "_YSqoZnHf1Pq"
   },
   "outputs": [],
   "source": [
    "tokenizer = Tokenizer()\n",
    "tokenizer.fit_on_texts(X)\n",
    "\n",
    "sentence_sq = tokenizer.texts_to_sequences(X)"
   ]
  },
  {
   "cell_type": "code",
   "execution_count": 6,
   "metadata": {
    "colab": {
     "base_uri": "https://localhost:8080/"
    },
    "id": "MQY_NOK8f1Pq",
    "outputId": "07be54ae-80db-4a4a-fff0-681db208846f"
   },
   "outputs": [
    {
     "data": {
      "text/plain": [
       "117"
      ]
     },
     "execution_count": 6,
     "metadata": {},
     "output_type": "execute_result"
    }
   ],
   "source": [
    "max_len = 0\n",
    "for sub_str in sentence_sq:\n",
    "    temp = len(sub_str)\n",
    "    if temp > max_len:\n",
    "        max_len = temp\n",
    "        \n",
    "max_len"
   ]
  },
  {
   "cell_type": "markdown",
   "metadata": {},
   "source": [
    "**Make all sentence vectors same length**"
   ]
  },
  {
   "cell_type": "code",
   "execution_count": 7,
   "metadata": {
    "id": "Pu2jNMNmf1Pq"
   },
   "outputs": [],
   "source": [
    "padded_docs = np.array(pad_sequences(sentence_sq, maxlen=max_len, padding='post'))"
   ]
  },
  {
   "cell_type": "code",
   "execution_count": 8,
   "metadata": {
    "colab": {
     "base_uri": "https://localhost:8080/"
    },
    "id": "zpfUwPvgf1Pq",
    "outputId": "2e2d98b3-0809-43e8-9e6b-0a6b1ce326dc"
   },
   "outputs": [
    {
     "data": {
      "text/plain": [
       "(22641, 117)"
      ]
     },
     "execution_count": 8,
     "metadata": {},
     "output_type": "execute_result"
    }
   ],
   "source": [
    "padded_docs.shape"
   ]
  },
  {
   "cell_type": "markdown",
   "metadata": {
    "id": "PTAUUTB0f1Pr"
   },
   "source": [
    "### Predict recommendation"
   ]
  },
  {
   "cell_type": "code",
   "execution_count": 9,
   "metadata": {
    "colab": {
     "base_uri": "https://localhost:8080/"
    },
    "id": "VsH41Fmhzh0Z",
    "outputId": "3373bb6c-0abd-44f2-fcd2-168333c80899"
   },
   "outputs": [
    {
     "data": {
      "text/plain": [
       "22641"
      ]
     },
     "execution_count": 9,
     "metadata": {},
     "output_type": "execute_result"
    }
   ],
   "source": [
    "len(y_recom)"
   ]
  },
  {
   "cell_type": "markdown",
   "metadata": {},
   "source": [
    "**Train test data split** "
   ]
  },
  {
   "cell_type": "code",
   "execution_count": 10,
   "metadata": {
    "id": "DU4tZxBxf1Pr"
   },
   "outputs": [],
   "source": [
    "X_recom_train, X_recom_test, y_recom_train, y_recom_test = train_test_split(padded_docs, y_recom, test_size=0.3)"
   ]
  },
  {
   "cell_type": "code",
   "execution_count": 20,
   "metadata": {
    "colab": {
     "base_uri": "https://localhost:8080/"
    },
    "id": "bxZlPLuSf1Pr",
    "outputId": "c1bde31f-4fd5-4005-ddb6-c4acc8594a31"
   },
   "outputs": [
    {
     "name": "stdout",
     "output_type": "stream",
     "text": [
      "Model: \"sequential_1\"\n",
      "_________________________________________________________________\n",
      "Layer (type)                 Output Shape              Param #   \n",
      "=================================================================\n",
      "embedding_1 (Embedding)      (None, 117, 50)           654350    \n",
      "_________________________________________________________________\n",
      "bidirectional_1 (Bidirection (None, 117, 20)           4880      \n",
      "_________________________________________________________________\n",
      "bidirectional_2 (Bidirection (None, 20)                2480      \n",
      "_________________________________________________________________\n",
      "dense_2 (Dense)              (None, 10)                210       \n",
      "_________________________________________________________________\n",
      "dropout_1 (Dropout)          (None, 10)                0         \n",
      "_________________________________________________________________\n",
      "dense_3 (Dense)              (None, 1)                 11        \n",
      "=================================================================\n",
      "Total params: 661,931\n",
      "Trainable params: 661,931\n",
      "Non-trainable params: 0\n",
      "_________________________________________________________________\n"
     ]
    }
   ],
   "source": [
    "early_stopping = EarlyStopping(monitor='val_accuracy', mode=\"auto\", patience = 5)\n",
    "model_save = ModelCheckpoint('model.hdf5', save_best_only=True)\n",
    "\n",
    "# we use sequential model\n",
    "model = Sequential()\n",
    "\n",
    "# embedding layer is a layer of the model which transform every world to a feature vector\n",
    "# and it learns it through learning process\n",
    "model.add(Embedding(\n",
    "    input_dim = len(tokenizer.word_counts)+1,\n",
    "    output_dim = 50,\n",
    "    input_length = padded_docs.shape[1]\n",
    "))\n",
    "\n",
    "# we use two bidirectional LSTM (long short term memory)\n",
    "model.add(Bidirectional(LSTM(units = 10, return_sequences = True)))\n",
    "model.add(Bidirectional(LSTM(units = 10, return_sequences = False)))\n",
    "model.add(Dense(10, activation='relu', activity_regularizer = l1(0.1)))\n",
    "model.add(Dropout(rate=0.5))\n",
    "model.add(Dense(1, activation='sigmoid'))\n",
    "\n",
    "model.summary()"
   ]
  },
  {
   "cell_type": "code",
   "execution_count": 23,
   "metadata": {
    "colab": {
     "base_uri": "https://localhost:8080/"
    },
    "id": "w9KlnsWGf1Pr",
    "outputId": "b902fe3d-0977-475b-d938-8c796246661c"
   },
   "outputs": [
    {
     "name": "stdout",
     "output_type": "stream",
     "text": [
      "Epoch 1/100\n",
      "223/223 [==============================] - 30s 133ms/step - loss: 0.6105 - accuracy: 0.8260 - val_loss: 0.5337 - val_accuracy: 0.8505\n",
      "Epoch 2/100\n",
      "223/223 [==============================] - 28s 126ms/step - loss: 0.5124 - accuracy: 0.8767 - val_loss: 0.4673 - val_accuracy: 0.8719\n",
      "Epoch 3/100\n",
      "223/223 [==============================] - 28s 126ms/step - loss: 0.4609 - accuracy: 0.8940 - val_loss: 0.4481 - val_accuracy: 0.8650\n",
      "Epoch 4/100\n",
      "223/223 [==============================] - 28s 126ms/step - loss: 0.4228 - accuracy: 0.9009 - val_loss: 0.4265 - val_accuracy: 0.8719\n",
      "Epoch 5/100\n",
      "223/223 [==============================] - 28s 127ms/step - loss: 0.3846 - accuracy: 0.9150 - val_loss: 0.4143 - val_accuracy: 0.8801\n",
      "Epoch 6/100\n",
      "223/223 [==============================] - 28s 127ms/step - loss: 0.3564 - accuracy: 0.9230 - val_loss: 0.4080 - val_accuracy: 0.8751\n",
      "Epoch 7/100\n",
      "223/223 [==============================] - 28s 127ms/step - loss: 0.3402 - accuracy: 0.9224 - val_loss: 0.4016 - val_accuracy: 0.8707\n",
      "Epoch 8/100\n",
      "223/223 [==============================] - 29s 130ms/step - loss: 0.3257 - accuracy: 0.9252 - val_loss: 0.3926 - val_accuracy: 0.8757\n",
      "Epoch 9/100\n",
      "223/223 [==============================] - 28s 127ms/step - loss: 0.3072 - accuracy: 0.9309 - val_loss: 0.3845 - val_accuracy: 0.8789\n",
      "Epoch 10/100\n",
      "223/223 [==============================] - 28s 127ms/step - loss: 0.2997 - accuracy: 0.9301 - val_loss: 0.4086 - val_accuracy: 0.8732\n"
     ]
    }
   ],
   "source": [
    "model.compile(optimizer = 'adam', loss = 'binary_crossentropy', metrics=['accuracy'])\n",
    "model_his = model.fit(X_recom_train, y_recom_train, epochs = 100, batch_size = 64, validation_split = 0.1, shuffle = True, verbose = True, callbacks = [early_stopping, model_save])"
   ]
  },
  {
   "cell_type": "markdown",
   "metadata": {},
   "source": [
    "### Evaluate model on test data"
   ]
  },
  {
   "cell_type": "code",
   "execution_count": 24,
   "metadata": {
    "colab": {
     "base_uri": "https://localhost:8080/"
    },
    "id": "G6GoLCCSf1Ps",
    "outputId": "8bfa34ea-a2e3-414d-f42a-52d661e30be1",
    "scrolled": true
   },
   "outputs": [
    {
     "name": "stdout",
     "output_type": "stream",
     "text": [
      "213/213 [==============================] - 8s 38ms/step - loss: 0.2805 - accuracy: 0.9445\n",
      "model test loss:  0.28052762150764465\n",
      "model test accuracy:  0.9445016980171204\n"
     ]
    }
   ],
   "source": [
    "test_result = model.evaluate(X_recom_test, y_recom_test)\n",
    "print ('model test loss: ', test_result[0])\n",
    "print ('model test accuracy: ', test_result[1])"
   ]
  },
  {
   "cell_type": "markdown",
   "metadata": {},
   "source": [
    "### Evaluate model on train data"
   ]
  },
  {
   "cell_type": "code",
   "execution_count": 25,
   "metadata": {
    "colab": {
     "base_uri": "https://localhost:8080/"
    },
    "id": "OLbCBmlLqNNa",
    "outputId": "6f33a350-ae0b-4ff4-8fe0-32020d291b62",
    "scrolled": true
   },
   "outputs": [
    {
     "name": "stdout",
     "output_type": "stream",
     "text": [
      "496/496 [==============================] - 21s 42ms/step - loss: 0.2829 - accuracy: 0.9422\n",
      "model train loss:  0.28288668394088745\n",
      "model train accuracy:  0.9422008991241455\n"
     ]
    }
   ],
   "source": [
    "train_result = model.evaluate(X_recom_train, y_recom_train)\n",
    "print ('model train loss: ', train_result[0])\n",
    "print ('model train accuracy: ', train_result[1])"
   ]
  },
  {
   "cell_type": "markdown",
   "metadata": {
    "id": "xItHmz9axKAF"
   },
   "source": [
    "## Rating prediction"
   ]
  },
  {
   "cell_type": "code",
   "execution_count": 11,
   "metadata": {
    "id": "e8JT2RCUzpNu"
   },
   "outputs": [],
   "source": [
    "y_rating = y_rating - 1"
   ]
  },
  {
   "cell_type": "code",
   "execution_count": 12,
   "metadata": {
    "id": "VsPQpMKqxK_H"
   },
   "outputs": [],
   "source": [
    "X_rate_train, X_rate_test, y_rate_train, y_rate_test = train_test_split(padded_docs, y_rating, test_size=0.3)"
   ]
  },
  {
   "cell_type": "code",
   "execution_count": 19,
   "metadata": {
    "colab": {
     "base_uri": "https://localhost:8080/"
    },
    "id": "z3-MljeaDEtI",
    "outputId": "147fdb92-d30f-44b8-c150-18604b922e66"
   },
   "outputs": [
    {
     "name": "stdout",
     "output_type": "stream",
     "text": [
      "Model: \"sequential\"\n",
      "_________________________________________________________________\n",
      "Layer (type)                 Output Shape              Param #   \n",
      "=================================================================\n",
      "embedding (Embedding)        (None, 117, 50)           654350    \n",
      "_________________________________________________________________\n",
      "bidirectional (Bidirectional (None, 256)               183296    \n",
      "_________________________________________________________________\n",
      "dense (Dense)                (None, 512)               131584    \n",
      "_________________________________________________________________\n",
      "dropout (Dropout)            (None, 512)               0         \n",
      "_________________________________________________________________\n",
      "dense_1 (Dense)              (None, 5)                 2565      \n",
      "=================================================================\n",
      "Total params: 971,795\n",
      "Trainable params: 971,795\n",
      "Non-trainable params: 0\n",
      "_________________________________________________________________\n"
     ]
    }
   ],
   "source": [
    "early_stopping = EarlyStopping(monitor='val_loss', mode=\"auto\", patience = 5)\n",
    "model_save = ModelCheckpoint('model_rating.hdf5', save_best_only=True)\n",
    "\n",
    "model1 = Sequential()\n",
    "model1.add(Embedding(\n",
    "    input_dim = len(tokenizer.word_counts)+1,\n",
    "    output_dim = 50,\n",
    "    input_length = padded_docs.shape[1]\n",
    "))\n",
    "model1.add(Bidirectional(LSTM(128, dropout=0.2, recurrent_dropout=0.2)))\n",
    "model1.add(Dense(512, activation='relu'))\n",
    "model1.add(Dropout(0.50))\n",
    "model1.add(Dense(5, activation='softmax'))\n",
    "model1.summary()"
   ]
  },
  {
   "cell_type": "code",
   "execution_count": null,
   "metadata": {
    "colab": {
     "base_uri": "https://localhost:8080/"
    },
    "id": "WDz2Wy8kExTD",
    "outputId": "0605bfca-9d14-4bee-b399-add1ece9f068"
   },
   "outputs": [
    {
     "data": {
      "text/plain": [
       "array([4, 4, 1, ..., 4, 4, 2])"
      ]
     },
     "execution_count": 24,
     "metadata": {
      "tags": []
     },
     "output_type": "execute_result"
    }
   ],
   "source": [
    "y_rate_train"
   ]
  },
  {
   "cell_type": "code",
   "execution_count": null,
   "metadata": {
    "colab": {
     "base_uri": "https://localhost:8080/"
    },
    "id": "IB3nSfWQD-9-",
    "outputId": "c69015c2-d3be-48c0-ca41-4f30320224c3"
   },
   "outputs": [
    {
     "name": "stdout",
     "output_type": "stream",
     "text": [
      "Epoch 1/100\n",
      "446/446 [==============================] - 257s 577ms/step - loss: 1.0567 - accuracy: 0.5849 - val_loss: 0.9685 - val_accuracy: 0.6215\n",
      "Epoch 2/100\n",
      "446/446 [==============================] - 256s 574ms/step - loss: 0.8892 - accuracy: 0.6280 - val_loss: 0.8966 - val_accuracy: 0.6284\n",
      "Epoch 3/100\n",
      "446/446 [==============================] - 258s 578ms/step - loss: 0.8102 - accuracy: 0.6600 - val_loss: 0.9849 - val_accuracy: 0.6297\n",
      "Epoch 4/100\n",
      "446/446 [==============================] - 257s 575ms/step - loss: 0.7454 - accuracy: 0.6858 - val_loss: 0.9273 - val_accuracy: 0.6429\n",
      "Epoch 5/100\n",
      "446/446 [==============================] - 257s 577ms/step - loss: 0.6928 - accuracy: 0.7085 - val_loss: 0.9850 - val_accuracy: 0.6315\n",
      "Epoch 6/100\n",
      "446/446 [==============================] - 257s 576ms/step - loss: 0.6370 - accuracy: 0.7355 - val_loss: 0.9862 - val_accuracy: 0.6315\n",
      "Epoch 7/100\n",
      "446/446 [==============================] - 257s 576ms/step - loss: 0.5977 - accuracy: 0.7576 - val_loss: 1.0102 - val_accuracy: 0.6290\n"
     ]
    }
   ],
   "source": [
    "model1.compile(optimizer = 'adam', loss = 'sparse_categorical_crossentropy', metrics=['accuracy'])\n",
    "model1_his = model1.fit(X_rate_train, y_rate_train, epochs = 100, batch_size = 32, validation_split = 0.1, shuffle = True, verbose = True, callbacks = [early_stopping, model_save])"
   ]
  },
  {
   "cell_type": "markdown",
   "metadata": {},
   "source": [
    "### Evaluate model on test data"
   ]
  },
  {
   "cell_type": "code",
   "execution_count": 26,
   "metadata": {
    "colab": {
     "base_uri": "https://localhost:8080/",
     "height": 197
    },
    "id": "gYxsW_RBzk1c",
    "outputId": "261a8a3c-88d6-41bb-a0fb-8fbb8576e8de",
    "scrolled": true
   },
   "outputs": [
    {
     "name": "stdout",
     "output_type": "stream",
     "text": [
      "213/213 [==============================] - 32s 152ms/step - loss: 0.8396 - accuracy: 0.6430\n",
      "model test loss:  0.8395806550979614\n",
      "model test accuracy:  0.6430148482322693\n"
     ]
    }
   ],
   "source": [
    "test_result_rate = model1.evaluate(X_rate_test, y_rate_test)\n",
    "print ('model test loss: ', test_result_rate[0])\n",
    "print ('model test accuracy: ', test_result_rate[1])"
   ]
  },
  {
   "cell_type": "markdown",
   "metadata": {},
   "source": [
    "### Evaluate model on train data"
   ]
  },
  {
   "cell_type": "code",
   "execution_count": 27,
   "metadata": {
    "colab": {
     "base_uri": "https://localhost:8080/"
    },
    "id": "aYZqAoLLEMcw",
    "outputId": "54b76646-701c-4294-bb67-32fb2690b8b3",
    "scrolled": false
   },
   "outputs": [
    {
     "name": "stdout",
     "output_type": "stream",
     "text": [
      "496/496 [==============================] - 73s 147ms/step - loss: 0.8335 - accuracy: 0.6560\n",
      "model train loss:  0.8334828019142151\n",
      "model train accuracy:  0.6559818387031555\n"
     ]
    }
   ],
   "source": [
    "train_result_rate = model1.evaluate(X_rate_train, y_rate_train)\n",
    "print ('model train loss: ', train_result_rate[0])\n",
    "print ('model train accuracy: ', train_result_rate[1])"
   ]
  },
  {
   "cell_type": "markdown",
   "metadata": {
    "id": "zddrsQln7r1A"
   },
   "source": [
    "## Load Saved models"
   ]
  },
  {
   "cell_type": "code",
   "execution_count": 23,
   "metadata": {},
   "outputs": [],
   "source": [
    "model.compile(optimizer = 'adam', loss = 'binary_crossentropy', metrics=['accuracy'])\n",
    "model1.compile(optimizer = 'adam', loss = 'sparse_categorical_crossentropy', metrics=['accuracy'])\n",
    "\n",
    "model.load_weights('./model.hdf5')\n",
    "model1.load_weights('./model_rating.hdf5')"
   ]
  },
  {
   "cell_type": "markdown",
   "metadata": {},
   "source": [
    "### Evaluate recommendation model on test data"
   ]
  },
  {
   "cell_type": "code",
   "execution_count": 24,
   "metadata": {
    "colab": {
     "base_uri": "https://localhost:8080/"
    },
    "id": "G6GoLCCSf1Ps",
    "outputId": "8bfa34ea-a2e3-414d-f42a-52d661e30be1",
    "scrolled": true
   },
   "outputs": [
    {
     "name": "stdout",
     "output_type": "stream",
     "text": [
      "213/213 [==============================] - 8s 38ms/step - loss: 0.2805 - accuracy: 0.9445\n",
      "model test loss:  0.28052762150764465\n",
      "model test accuracy:  0.9445016980171204\n"
     ]
    }
   ],
   "source": [
    "test_result = model.evaluate(X_recom_test, y_recom_test)\n",
    "print ('model test loss: ', test_result[0])\n",
    "print ('model test accuracy: ', test_result[1])"
   ]
  },
  {
   "cell_type": "markdown",
   "metadata": {},
   "source": [
    "### Evaluate recommendation model on train data"
   ]
  },
  {
   "cell_type": "code",
   "execution_count": 25,
   "metadata": {
    "colab": {
     "base_uri": "https://localhost:8080/"
    },
    "id": "OLbCBmlLqNNa",
    "outputId": "6f33a350-ae0b-4ff4-8fe0-32020d291b62",
    "scrolled": false
   },
   "outputs": [
    {
     "name": "stdout",
     "output_type": "stream",
     "text": [
      "496/496 [==============================] - 21s 42ms/step - loss: 0.2829 - accuracy: 0.9422\n",
      "model train loss:  0.28288668394088745\n",
      "model train accuracy:  0.9422008991241455\n"
     ]
    }
   ],
   "source": [
    "train_result = model.evaluate(X_recom_train, y_recom_train)\n",
    "print ('model train loss: ', train_result[0])\n",
    "print ('model train accuracy: ', train_result[1])"
   ]
  },
  {
   "cell_type": "markdown",
   "metadata": {},
   "source": [
    "### Evaluate rating model on test data"
   ]
  },
  {
   "cell_type": "code",
   "execution_count": 26,
   "metadata": {
    "colab": {
     "base_uri": "https://localhost:8080/",
     "height": 197
    },
    "id": "gYxsW_RBzk1c",
    "outputId": "261a8a3c-88d6-41bb-a0fb-8fbb8576e8de",
    "scrolled": true
   },
   "outputs": [
    {
     "name": "stdout",
     "output_type": "stream",
     "text": [
      "213/213 [==============================] - 32s 152ms/step - loss: 0.8396 - accuracy: 0.6430\n",
      "model test loss:  0.8395806550979614\n",
      "model test accuracy:  0.6430148482322693\n"
     ]
    }
   ],
   "source": [
    "test_result_rate = model1.evaluate(X_rate_test, y_rate_test)\n",
    "print ('model test loss: ', test_result_rate[0])\n",
    "print ('model test accuracy: ', test_result_rate[1])"
   ]
  },
  {
   "cell_type": "markdown",
   "metadata": {},
   "source": [
    "### Evaluate  rating model on train data"
   ]
  },
  {
   "cell_type": "code",
   "execution_count": 27,
   "metadata": {
    "colab": {
     "base_uri": "https://localhost:8080/"
    },
    "id": "aYZqAoLLEMcw",
    "outputId": "54b76646-701c-4294-bb67-32fb2690b8b3",
    "scrolled": false
   },
   "outputs": [
    {
     "name": "stdout",
     "output_type": "stream",
     "text": [
      "496/496 [==============================] - 73s 147ms/step - loss: 0.8335 - accuracy: 0.6560\n",
      "model train loss:  0.8334828019142151\n",
      "model train accuracy:  0.6559818387031555\n"
     ]
    }
   ],
   "source": [
    "train_result_rate = model1.evaluate(X_rate_train, y_rate_train)\n",
    "print ('model train loss: ', train_result_rate[0])\n",
    "print ('model train accuracy: ', train_result_rate[1])"
   ]
  }
 ],
 "metadata": {
  "colab": {
   "collapsed_sections": [],
   "name": "Deep learning.ipynb",
   "provenance": []
  },
  "kernelspec": {
   "display_name": "Python 3",
   "language": "python",
   "name": "python3"
  },
  "language_info": {
   "codemirror_mode": {
    "name": "ipython",
    "version": 3
   },
   "file_extension": ".py",
   "mimetype": "text/x-python",
   "name": "python",
   "nbconvert_exporter": "python",
   "pygments_lexer": "ipython3",
   "version": "3.8.5"
  }
 },
 "nbformat": 4,
 "nbformat_minor": 1
}
